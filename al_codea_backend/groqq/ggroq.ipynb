{
 "cells": [
  {
   "cell_type": "code",
   "execution_count": null,
   "metadata": {},
   "outputs": [],
   "source": []
  },
  {
   "cell_type": "code",
   "execution_count": 3,
   "metadata": {},
   "outputs": [],
   "source": [
    "\n",
    "import os\n",
    "from langchain.chains.combine_documents import create_stuff_documents_chain\n",
    "from langchain_community.document_loaders import WebBaseLoader\n",
    "from langchain.embeddings import OllamaEmbeddings\n",
    "from langchain.text_splitter import RecursiveCharacterTextSplitter\n",
    "from langchain_core.prompts import ChatPromptTemplate\n",
    "from langchain.chains import create_retrieval_chain\n",
    "from langchain_community.vectorstores import FAISS\n",
    "import time\n",
    "from dotenv import load_dotenv\n",
    "import bs4\n",
    "from langchain_groq import ChatGroq\n",
    "\n",
    "load_dotenv()\n",
    "\n",
    "## load the Groq API key\n",
    "groq_api_key = os.environ['GROQ_API_KEY']"
   ]
  },
  {
   "cell_type": "code",
   "execution_count": 7,
   "metadata": {},
   "outputs": [],
   "source": [
    "\n",
    "embeddings = OllamaEmbeddings()\n",
    "loader=WebBaseLoader(\"https://react.dev/learn\")\n",
    "docs = loader.load()\n",
    "\n",
    "text_splitter = RecursiveCharacterTextSplitter(chunk_size=800, chunk_overlap=250)\n",
    "final_documents = text_splitter.split_documents(docs)\n",
    "vectors = FAISS.from_documents(final_documents, embeddings)"
   ]
  },
  {
   "cell_type": "code",
   "execution_count": 8,
   "metadata": {},
   "outputs": [],
   "source": [
    "\n",
    "llm=ChatGroq(temperature=0, model_name=\"mixtral-8x7b-32768\")\n",
    "\n",
    "\n",
    "\n",
    "prompt=ChatPromptTemplate.from_template(\n",
    "\"\"\"\n",
    "Answer the questions based on the provided context only.\n",
    "Please provide the most accurate response based on the question\n",
    "<context>\n",
    "{context}\n",
    "<context>\n",
    "Questions:{input}\n",
    "\n",
    "\"\"\"\n",
    ")\n",
    "document_chain = create_stuff_documents_chain(llm, prompt)\n",
    "retriever = vectors.as_retriever()\n",
    "retrieval_chain = create_retrieval_chain(retriever, document_chain)\n",
    "\n"
   ]
  },
  {
   "cell_type": "code",
   "execution_count": 10,
   "metadata": {},
   "outputs": [
    {
     "name": "stdout",
     "output_type": "stream",
     "text": [
      "1. What does the `export default` keywords specify in a React component?\n",
      "a) It specifies the main component in the file\n",
      "b) It is used to export a named component\n",
      "c) It is used to import a named component\n",
      "d) It is used to specify a default export\n",
      "\n",
      "Answer: a) It specifies the main component in the file\n",
      "\n",
      "2. What is the purpose of using JSX in React?\n",
      "a) It is used for debugging purposes\n",
      "b) It is used for styling the components\n",
      "c) It is used for writing markup in React\n",
      "d) It is used for handling events\n",
      "\n",
      "Answer: c) It is used for writing markup in React\n",
      "\n",
      "3. What is the difference between HTML tags and React components while nesting?\n",
      "a) HTML tags must start with a capital letter, while React components must be lowercase\n",
      "b) HTML tags must be lowercase, while React components must start with a capital letter\n",
      "c) Both HTML tags and React components must start with a capital letter\n",
      "d) Both HTML tags and React components must be lowercase\n",
      "\n",
      "Answer: b) HTML tags must be lowercase, while React components must start with a capital letter\n",
      "\n",
      "4. What is the purpose of using the `count` and `onClick` props in the `MyButton` component?\n",
      "a) `count` is used to display the number of times the button has been clicked, and `onClick` is used to handle the click event\n",
      "b) `count` is used to handle the click event, and `onClick` is used to display the number of times the button has been clicked\n",
      "c) `count` is used to display the label of the button, and `onClick` is used to handle the click event\n",
      "d) `count` is used to handle the click event, and `onClick` is used to display the label of the button\n",
      "\n",
      "Answer: a) `count` is used to display the number of times the button has been clicked, and `onClick` is used to handle the click event\n",
      "\n",
      "5. What is the purpose of using the empty `<></>` wrapper in JSX?\n",
      "a) It is used to wrap multiple JSX tags and return them as a single parent element\n",
      "b) It is used to specify an empty tag that doesn't render any markup\n",
      "c) It is used to wrap a single JSX tag and return it as a parent element\n",
      "d) It is used to specify a self-closing tag that doesn't render any markup\n",
      "\n",
      "Answer: a) It is used to wrap multiple JSX tags and return them as a single parent element\n"
     ]
    }
   ],
   "source": [
    "\n",
    "response=retrieval_chain.invoke({\"input\":'create 5 random objective type questions which have( 4 options out of 1 is correct) from the context given.The questions should be on methods and functions in react.  give its answer also. the questions should be based on react programming not on its general awareness. questions should not be on its features, pre requisites, compilers, comparisons with other languages, authors. The questions should be a little above beginner level '})\n",
    "print(response['answer'])"
   ]
  }
 ],
 "metadata": {
  "kernelspec": {
   "display_name": "Python 3",
   "language": "python",
   "name": "python3"
  },
  "language_info": {
   "codemirror_mode": {
    "name": "ipython",
    "version": 3
   },
   "file_extension": ".py",
   "mimetype": "text/x-python",
   "name": "python",
   "nbconvert_exporter": "python",
   "pygments_lexer": "ipython3",
   "version": "3.12.1"
  }
 },
 "nbformat": 4,
 "nbformat_minor": 2
}
