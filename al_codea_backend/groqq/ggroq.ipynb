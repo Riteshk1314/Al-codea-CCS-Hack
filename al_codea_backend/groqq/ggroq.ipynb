{
 "cells": [
  {
   "cell_type": "code",
   "execution_count": null,
   "metadata": {},
   "outputs": [],
   "source": []
  },
  {
   "cell_type": "code",
   "execution_count": 1,
   "metadata": {},
   "outputs": [],
   "source": [
    "\n",
    "import os\n",
    "from langchain.chains.combine_documents import create_stuff_documents_chain\n",
    "from langchain_community.document_loaders import WebBaseLoader\n",
    "from langchain.embeddings import OllamaEmbeddings\n",
    "from langchain.text_splitter import RecursiveCharacterTextSplitter\n",
    "from langchain_core.prompts import ChatPromptTemplate\n",
    "from langchain.chains import create_retrieval_chain\n",
    "from langchain_community.vectorstores import FAISS\n",
    "import time\n",
    "from dotenv import load_dotenv\n",
    "import bs4\n",
    "from langchain_groq import ChatGroq\n",
    "\n",
    "load_dotenv()\n",
    "\n",
    "## load the Groq API key\n",
    "groq_api_key = os.environ['GROQ_API_KEY']"
   ]
  },
  {
   "cell_type": "code",
   "execution_count": 33,
   "metadata": {},
   "outputs": [],
   "source": [
    "\n",
    "embeddings = OllamaEmbeddings()\n",
    "loader=WebBaseLoader(\"https://www.taniarascia.com/getting-started-with-react/\")\n",
    "docs = loader.load()\n",
    "\n",
    "text_splitter = RecursiveCharacterTextSplitter(chunk_size=800, chunk_overlap=250)\n",
    "final_documents = text_splitter.split_documents(docs)\n",
    "vectors = FAISS.from_documents(final_documents, embeddings)"
   ]
  },
  {
   "cell_type": "code",
   "execution_count": 34,
   "metadata": {},
   "outputs": [],
   "source": [
    "\n",
    "llm=ChatGroq(temperature=0, model_name=\"mixtral-8x7b-32768\")\n",
    "\n",
    "\n",
    "\n",
    "prompt=ChatPromptTemplate.from_template(\n",
    "\"\"\"\n",
    "Answer the questions based on the provided context only.\n",
    "Please provide the most accurate response based on the question\n",
    "<context>\n",
    "{context}\n",
    "<context>\n",
    "Questions:{input}\n",
    "\n",
    "\"\"\"\n",
    ")\n",
    "document_chain = create_stuff_documents_chain(llm, prompt)\n",
    "retriever = vectors.as_retriever()\n",
    "retrieval_chain = create_retrieval_chain(retriever, document_chain)\n",
    "\n"
   ]
  },
  {
   "cell_type": "code",
   "execution_count": 37,
   "metadata": {},
   "outputs": [
    {
     "name": "stdout",
     "output_type": "stream",
     "text": [
      "1. What is the purpose of the `componentDidMount()` method in the context of React?\n",
      "a) It is used to render a component\n",
      "b) It is used to update a component\n",
      "c) It is used to handle events\n",
      "d) It is used to run code after a component is mounted to the DOM\n",
      "\n",
      "Answer: d) It is used to run code after a component is mounted to the DOM\n",
      "\n",
      "2. Which of the following is used to pass data from a parent component to a child component in React?\n",
      "a) state\n",
      "b) props\n",
      "c) refs\n",
      "d) keys\n",
      "\n",
      "Answer: b) props\n",
      "\n",
      "3. What is the role of the `key` prop in the following code snippet?\n",
      "```php\n",
      "<tr key={index}>\n",
      "  ...\n",
      "</tr>\n",
      "```\n",
      "a) It is used to identify the row uniquely\n",
      "b) It is used to style the row\n",
      "c) It is used to handle events on the row\n",
      "d) It is used to pass data to the row\n",
      "\n",
      "Answer: a) It is used to identify the row uniquely\n",
      "\n",
      "4. Which of the following is used to remove an item from an array in the `removeCharacter()` method?\n",
      "a) filter()\n",
      "b) map()\n",
      "c) reduce()\n",
      "d) forEach()\n",
      "\n",
      "Answer: a) filter()\n",
      "\n",
      "5. Which of the following is used to compile and create a production build of a React application?\n",
      "a) npm run build\n",
      "b) npm run compile\n",
      "c) npm run production\n",
      "d) npm run create-build\n",
      "\n",
      "Answer: a) npm run build\n"
     ]
    }
   ],
   "source": [
    "\n",
    "response=retrieval_chain.invoke({\"input\":'create 5 random objective type questions which have( 4 options out of 1 is correct) from the context given.The questions should be on methods and functions in react.  give its answer also. the questions should be based on react programming not on its general awareness. questions should not be on its features, pre requisites, compilers, comparisons with other languages, authors  '})\n",
    "print(response['answer'])"
   ]
  }
 ],
 "metadata": {
  "kernelspec": {
   "display_name": "Python 3",
   "language": "python",
   "name": "python3"
  },
  "language_info": {
   "codemirror_mode": {
    "name": "ipython",
    "version": 3
   },
   "file_extension": ".py",
   "mimetype": "text/x-python",
   "name": "python",
   "nbconvert_exporter": "python",
   "pygments_lexer": "ipython3",
   "version": "3.12.1"
  }
 },
 "nbformat": 4,
 "nbformat_minor": 2
}
